{
  "nbformat": 4,
  "nbformat_minor": 0,
  "metadata": {
    "anaconda-cloud": {},
    "kernelspec": {
      "display_name": "Python 3",
      "language": "python",
      "name": "python3"
    },
    "language_info": {
      "codemirror_mode": {
        "name": "ipython",
        "version": 3
      },
      "file_extension": ".py",
      "mimetype": "text/x-python",
      "name": "python",
      "nbconvert_exporter": "python",
      "pygments_lexer": "ipython3",
      "version": "3.6.6"
    },
    "colab": {
      "provenance": [],
      "include_colab_link": true
    },
    "accelerator": "GPU"
  },
  "cells": [
    {
      "cell_type": "markdown",
      "metadata": {
        "id": "view-in-github",
        "colab_type": "text"
      },
      "source": [
        "<a href=\"https://colab.research.google.com/github/JunnanShimizu/DeepLearning/blob/main/Junnan_Shimizu_04_AIT_MLP_CIFAR10_exercise.ipynb\" target=\"_parent\"><img src=\"https://colab.research.google.com/assets/colab-badge.svg\" alt=\"Open In Colab\"/></a>"
      ]
    },
    {
      "cell_type": "markdown",
      "metadata": {
        "id": "cW-EyI5Lxpqi"
      },
      "source": [
        "# Copyright\n",
        "\n",
        "<PRE>\n",
        "Copyright (c) 2024 Bálint Gyires-Tóth - All Rights Reserved\n",
        "You may use and modify this code for research and development purpuses.\n",
        "Using this code for educational purposes (self-paced or instructor led) without the permission of the author is prohibited.\n",
        "</PRE>"
      ]
    },
    {
      "cell_type": "markdown",
      "source": [
        "# Example of data exploration, modeling, regulartion and prediction\n",
        "Our exercise today involves loading a standard dataset using TensorFlow Keras API, exploring the data, building a simple neural network, and evaluating the effects of basic methods (activation functions, regularization, weight initialization, etc.). We then perform predictions on the test set and inspect the results."
      ],
      "metadata": {
        "id": "3EX4cCa4WKJu"
      }
    },
    {
      "cell_type": "markdown",
      "source": [
        "# 1. Data\n",
        "The dataset we will use is the well-known CIFAR10 (Canadian Institute For Advanced Research). Explore the details on the Keras website first: https://keras.io/api/datasets/cifar10/\n",
        "\n",
        "After you explored the basic features of the data, let's load it into the memory and explore the shapes:"
      ],
      "metadata": {
        "id": "yY9fztIeWIKt"
      }
    },
    {
      "cell_type": "code",
      "source": [
        "from tensorflow.keras.datasets import cifar10\n",
        "from tensorflow.keras.utils import to_categorical\n",
        "import numpy as np"
      ],
      "metadata": {
        "id": "giRZKTjzX_7l"
      },
      "execution_count": 136,
      "outputs": []
    },
    {
      "cell_type": "code",
      "source": [
        "(X_train, Y_train), (X_test, Y_test) = cifar10.load_data()"
      ],
      "metadata": {
        "id": "bez7q0eiWQCK"
      },
      "execution_count": 137,
      "outputs": []
    },
    {
      "cell_type": "code",
      "source": [
        "print(X_train.shape)\n",
        "print(X_test.shape)\n",
        "print(Y_train.shape)\n",
        "print(Y_test.shape)"
      ],
      "metadata": {
        "id": "2tJoRq5wXywi",
        "colab": {
          "base_uri": "https://localhost:8080/"
        },
        "outputId": "f0cf1b60-a1c2-404a-b9d4-57657d01a6ec"
      },
      "execution_count": 138,
      "outputs": [
        {
          "output_type": "stream",
          "name": "stdout",
          "text": [
            "(50000, 32, 32, 3)\n",
            "(10000, 32, 32, 3)\n",
            "(50000, 1)\n",
            "(10000, 1)\n"
          ]
        }
      ]
    },
    {
      "cell_type": "markdown",
      "source": [
        "## 1.1. Exercise\n",
        "Display the first ten images of the training data. Hints:\n",
        "* Axis 0 refers to the separate images, e.g. X_train[0]\n",
        "* You can use the [Matplotlib Pyplot imshow function](https://matplotlib.org/stable/api/_as_gen/matplotlib.pyplot.imshow.html) for displaying the image. Just don't forget to import Plotly first!\n",
        "* A corresponding example, but you have to modify the code for your purpose: https://stackoverflow.com/questions/46615554/how-to-display-multiple-images-in-one-figure-correctly"
      ],
      "metadata": {
        "id": "zTCSGFyDlNvf"
      }
    },
    {
      "cell_type": "code",
      "source": [
        "import matplotlib.pyplot as plt\n",
        "\n",
        "labels = ['airplane', 'automobile', 'bird', 'cat', 'deer', 'dog', 'frog', 'horse', 'ship', 'truck']\n",
        "\n",
        "plt.figure(figsize=(20,20))\n",
        "for i in range(10):\n",
        "    plt.subplot(5,5,i+1)\n",
        "    plt.xticks([])\n",
        "    plt.yticks([])\n",
        "    plt.grid(False)\n",
        "    plt.imshow(X_train[i], cmap=plt.cm.binary)\n",
        "    plt.xlabel(labels[Y_train[i][0]])\n",
        "plt.show()"
      ],
      "metadata": {
        "id": "hIQhHTppmBdO",
        "colab": {
          "base_uri": "https://localhost:8080/",
          "height": 471
        },
        "outputId": "fc62db67-0a5f-4ba8-8116-55520c534b59"
      },
      "execution_count": 139,
      "outputs": [
        {
          "output_type": "display_data",
          "data": {
            "text/plain": [
              "<Figure size 2000x2000 with 10 Axes>"
            ],
            "image/png": "[encoded data removed]"
          },
          "metadata": {}
        }
      ]
    },
    {
      "cell_type": "markdown",
      "source": [
        "Print the corresponding labels of the displayed images from the target variable (Y_train):"
      ],
      "metadata": {
        "id": "FAQkUWlmm-bc"
      }
    },
    {
      "cell_type": "code",
      "source": [
        "print(Y_train[0:10])\n",
        "\n",
        "for i in range(10):\n",
        "  print(labels[Y_train[i][0]])"
      ],
      "metadata": {
        "id": "AkOrWzghnJ78",
        "colab": {
          "base_uri": "https://localhost:8080/"
        },
        "outputId": "ab9d4bc8-4d5d-4b77-be22-41f49942fa1f"
      },
      "execution_count": 140,
      "outputs": [
        {
          "output_type": "stream",
          "name": "stdout",
          "text": [
            "[[6]\n",
            " [9]\n",
            " [9]\n",
            " [4]\n",
            " [1]\n",
            " [1]\n",
            " [2]\n",
            " [7]\n",
            " [8]\n",
            " [3]]\n",
            "frog\n",
            "truck\n",
            "truck\n",
            "deer\n",
            "automobile\n",
            "automobile\n",
            "bird\n",
            "horse\n",
            "ship\n",
            "cat\n"
          ]
        }
      ]
    },
    {
      "cell_type": "markdown",
      "source": [
        "## 1.2. Exercise\n",
        "We will train a Multi-Layer Perceptron (MLP), which requires a 2 dimensional input: 0th axis refers to the datapoints (i.e. images), the 1th dimens to the input. As images are 3 dimensional (width, height, color channels), you have to reshape the images into vectors. We also call this flattening.\n",
        "\n",
        "In order to do so, calculate the size of the equivalent 1D vector of the image:"
      ],
      "metadata": {
        "id": "VX24g5FstsRU"
      }
    },
    {
      "cell_type": "code",
      "source": [
        "flattened_dim = (32 * 32 * 3)"
      ],
      "metadata": {
        "id": "hdoMyxHzuXZG"
      },
      "execution_count": 141,
      "outputs": []
    },
    {
      "cell_type": "markdown",
      "source": [
        "After you calculated it, we can reshape the images, and covert the integer arrays into float arrays -- which are needed for the neural networks as input. Hint:\n",
        "* in the [reshape() function of Numpy](https://www.w3schools.com/python/numpy/numpy_array_reshape.asp) you can use -1 for one axis, to automatically calculate that value."
      ],
      "metadata": {
        "id": "WbqXJUSFubeC"
      }
    },
    {
      "cell_type": "code",
      "source": [
        "# reshape 3D tensors to 2D tensors\n",
        "X_train = X_train.reshape(50000, flattened_dim)\n",
        "X_test = X_test.reshape(10000, flattened_dim)\n",
        "\n",
        "# it is in int8 format, the neural network requires float32\n",
        "X_train = X_train.astype(\"float32\")\n",
        "X_test = X_test.astype(\"float32\")"
      ],
      "metadata": {
        "id": "vukOcBM0XzSj"
      },
      "execution_count": 142,
      "outputs": []
    },
    {
      "cell_type": "markdown",
      "source": [
        "## 1.3. Exercise\n",
        "As the next step, let's split the training data into training and validation data. 80% of the original training data should be the final training data, and 20% the validation.\n",
        "You should use Numpy indexing to select the first 80% of X_train as final X_train, and the last 20% as X_valid. Hints:\n",
        "* https://datascienceparichay.com/article/numpy-array-first-n-rows/\n",
        "* https://datascienceparichay.com/article/numpy-array-last-n-rows/"
      ],
      "metadata": {
        "id": "DO79AdIdvVfD"
      }
    },
    {
      "cell_type": "code",
      "source": [
        "train_ratio  = 0.8\n",
        "train_length = len(X_train) # length of the training data\n",
        "train_split  = int(train_length * train_ratio) # where to split the training and validation data\n",
        "X_valid, Y_valid = X_train[train_split:], Y_train[train_split:]\n",
        "X_train, Y_train = X_train[0:train_split], Y_train[0: train_split]"
      ],
      "metadata": {
        "id": "mRwuWxxIxLgN"
      },
      "execution_count": 143,
      "outputs": []
    },
    {
      "cell_type": "markdown",
      "source": [
        "## 1.4. Exercise\n",
        "As the last step of input data preparation, the data should be standardized. Calculate the mean and variance of the training data (elementvise -- so for each value of the flattened image you should get a mean and variance for the training data along 0th axis). Hint:\n",
        "* https://stackoverflow.com/questions/70626231/how-to-calculate-mean-variance-standard-deviation-per-index-of-array"
      ],
      "metadata": {
        "id": "z05y_QWDxWER"
      }
    },
    {
      "cell_type": "code",
      "source": [
        "mean = np.mean(X_train)\n",
        "std  = np.std(X_train)"
      ],
      "metadata": {
        "id": "TSZbvWCBx8Ea"
      },
      "execution_count": 144,
      "outputs": []
    },
    {
      "cell_type": "markdown",
      "source": [
        "Next, use the resulting values to standardize the training, validation and test data by substracting the mean and dividing the result with the standard deviation."
      ],
      "metadata": {
        "id": "6WRHKkkjyN1S"
      }
    },
    {
      "cell_type": "code",
      "source": [
        "X_train = (X_train - mean) / std\n",
        "X_valid = (X_valid - mean) / std\n",
        "X_test  = (X_test - mean) / std"
      ],
      "metadata": {
        "id": "2ESLP1EIyB2J"
      },
      "execution_count": 145,
      "outputs": []
    },
    {
      "cell_type": "markdown",
      "source": [
        "## 1.5. Exercise\n",
        "And as the last step, convert the dense representation of the classes (i.e. 0,1,2,3...9) to one-hot encoding (0 = [1 0 0 0 0 0 0 0 0 0], 1 = [0 1 0 0 0 0 0 0 0 0] ... 9 = [0 0 0 0 0 0 0 0 0 1]). To do this, first, calculate the number of unique elements in the target training data. Hints:\n",
        "* use the [unique() function](https://numpy.org/doc/stable/reference/generated/numpy.unique.html) of Numpy to list the unique elements\n",
        "* you can count the number of elements in a list with the [len() function](https://www.w3schools.com/python/ref_func_len.asp)"
      ],
      "metadata": {
        "id": "ooHCnUin7r4o"
      }
    },
    {
      "cell_type": "code",
      "source": [
        "num_unique = np.unique(Y_valid)\n",
        "\n",
        "nb_classes = len(num_unique)"
      ],
      "metadata": {
        "id": "i0LAO9cs8KEE"
      },
      "execution_count": 146,
      "outputs": []
    },
    {
      "cell_type": "markdown",
      "source": [
        "Doublecheck, if the same number of classes exists in the validation and test target data:"
      ],
      "metadata": {
        "id": "BvM6XhGe8JU9"
      }
    },
    {
      "cell_type": "code",
      "source": [
        "print(\"Validation data has the same number of classes, as the training data:\", nb_classes == len(np.unique(Y_valid)))\n",
        "print(\"Test data has the same number of classes, as the training data:\", nb_classes == len(np.unique(Y_test)))"
      ],
      "metadata": {
        "id": "eZFNSsyx_Py2",
        "colab": {
          "base_uri": "https://localhost:8080/"
        },
        "outputId": "946bab88-e4a8-4483-e233-6110132d2b9d"
      },
      "execution_count": 147,
      "outputs": [
        {
          "output_type": "stream",
          "name": "stdout",
          "text": [
            "Validation data has the same number of classes, as the training data: True\n",
            "Test data has the same number of classes, as the training data: True\n"
          ]
        }
      ]
    },
    {
      "cell_type": "markdown",
      "source": [
        "And convert the dense representation into one-hot encoding. Hint:\n",
        "* use the [to_categorical function](https://www.tensorflow.org/api_docs/python/tf/keras/utils/to_categorical) with the calculated nb_classes\n"
      ],
      "metadata": {
        "id": "mJM-iBmR8dLe"
      }
    },
    {
      "cell_type": "code",
      "source": [
        "Y_train = to_categorical(Y_train, nb_classes)\n",
        "Y_valid = to_categorical(Y_valid, nb_classes)\n",
        "Y_test  = to_categorical(Y_test, nb_classes)"
      ],
      "metadata": {
        "id": "xwZ4OJ6I8lba"
      },
      "execution_count": 148,
      "outputs": []
    },
    {
      "cell_type": "markdown",
      "source": [
        "## Final check of data preparation\n",
        "Now, lets check the shapes and mean and standard deviation of the training, validation and test data."
      ],
      "metadata": {
        "id": "LshN2OSsv3TZ"
      }
    },
    {
      "cell_type": "code",
      "source": [
        "print(\"Shapes of the training, validation and test input data:\", X_train.shape, X_valid.shape, X_test.shape)\n",
        "print(\"Shapes of the training, validation and test output data:\", Y_train.shape, Y_valid.shape, Y_test.shape)\n",
        "print(\"Mean values of the training, validation and test input data:\", X_train.mean(), X_valid.mean(), X_test.mean())\n",
        "print(\"Standard deviation of the training, validation and test input data:\", X_train.std(), X_valid.std(), X_test.std())"
      ],
      "metadata": {
        "id": "O_jdJVcvX0vi",
        "colab": {
          "base_uri": "https://localhost:8080/"
        },
        "outputId": "c9ebc970-56cb-4cd9-f020-8358c6fc107b"
      },
      "execution_count": 149,
      "outputs": [
        {
          "output_type": "stream",
          "name": "stdout",
          "text": [
            "Shapes of the training, validation and test input data: (40000, 3072) (10000, 3072) (10000, 3072)\n",
            "Shapes of the training, validation and test output data: (40000, 10) (10000, 10) (10000, 10)\n",
            "Mean values of the training, validation and test input data: -9.952088e-07 0.0023037957 0.01325897\n",
            "Standard deviation of the training, validation and test input data: 1.0000001 0.9967511 0.9979626\n"
          ]
        }
      ]
    },
    {
      "cell_type": "markdown",
      "source": [
        "Don't worry, if the mean and standard deviation of the validation and test data are not exactly 0 and 1, but these might be very mear to it (e.g. 0.01 mean, 0.99 variance)."
      ],
      "metadata": {
        "id": "5GtAOOoezmZY"
      }
    },
    {
      "cell_type": "markdown",
      "metadata": {
        "id": "cJ14oyZExpqj"
      },
      "source": [
        "# 2. Training"
      ]
    },
    {
      "cell_type": "markdown",
      "metadata": {
        "id": "s4ZXYRMBxpql"
      },
      "source": [
        "Let us begin with a simple example of creating a small neural network without regularization and training it with actual data. The purpose of this is to provide you with an example as to how to proceed with the next exercise."
      ]
    },
    {
      "cell_type": "code",
      "source": [
        "# imports\n",
        "import numpy as np\n",
        "import matplotlib.pyplot as plt\n",
        "from tensorflow.keras.models import Sequential\n",
        "from tensorflow.keras.layers import Dense, Embedding, Flatten, Dropout\n",
        "from tensorflow.keras.initializers import HeNormal\n",
        "from tensorflow.keras.callbacks import EarlyStopping"
      ],
      "metadata": {
        "id": "6-8Q6ll7ZDgq"
      },
      "execution_count": 150,
      "outputs": []
    },
    {
      "cell_type": "code",
      "source": [
        "# model definition\n",
        "model = Sequential()\n",
        "model.add(Dense(128, activation='tanh', input_shape=(flattened_dim,)))\n",
        "model.add(Dense(128, activation='tanh'))\n",
        "model.add(Dense(nb_classes, activation='softmax'))\n",
        "\n",
        "# loss function and optimizer\n",
        "model.compile(loss='categorical_crossentropy', optimizer='adam', metrics=['accuracy'])"
      ],
      "metadata": {
        "id": "pke6w3CD8DHp"
      },
      "execution_count": 151,
      "outputs": []
    },
    {
      "cell_type": "code",
      "metadata": {
        "id": "CZbOR76QxprC",
        "colab": {
          "base_uri": "https://localhost:8080/"
        },
        "outputId": "345e7c3f-5b5e-4a75-933b-efa20d35bc89"
      },
      "source": [
        "# training\n",
        "network_history = model.fit(X_train, Y_train,\n",
        "                            validation_data=(X_valid,Y_valid),\n",
        "                            batch_size=128,\n",
        "                            epochs=40,\n",
        "                            verbose=1)"
      ],
      "execution_count": 152,
      "outputs": [
        {
          "output_type": "stream",
          "name": "stdout",
          "text": [
            "Epoch 1/40\n",
            "313/313 [==============================] - 3s 6ms/step - loss: 1.8121 - accuracy: 0.3662 - val_loss: 1.7563 - val_accuracy: 0.3905\n",
            "Epoch 2/40\n",
            "313/313 [==============================] - 1s 5ms/step - loss: 1.6832 - accuracy: 0.4122 - val_loss: 1.7278 - val_accuracy: 0.3961\n",
            "Epoch 3/40\n",
            "313/313 [==============================] - 1s 4ms/step - loss: 1.6294 - accuracy: 0.4322 - val_loss: 1.7032 - val_accuracy: 0.4043\n",
            "Epoch 4/40\n",
            "313/313 [==============================] - 1s 4ms/step - loss: 1.5900 - accuracy: 0.4461 - val_loss: 1.6642 - val_accuracy: 0.4184\n",
            "Epoch 5/40\n",
            "313/313 [==============================] - 2s 5ms/step - loss: 1.5511 - accuracy: 0.4595 - val_loss: 1.6556 - val_accuracy: 0.4159\n",
            "Epoch 6/40\n",
            "313/313 [==============================] - 2s 6ms/step - loss: 1.5214 - accuracy: 0.4705 - val_loss: 1.6298 - val_accuracy: 0.4390\n",
            "Epoch 7/40\n",
            "313/313 [==============================] - 1s 5ms/step - loss: 1.4939 - accuracy: 0.4828 - val_loss: 1.6307 - val_accuracy: 0.4324\n",
            "Epoch 8/40\n",
            "313/313 [==============================] - 2s 5ms/step - loss: 1.4653 - accuracy: 0.4897 - val_loss: 1.6258 - val_accuracy: 0.4360\n",
            "Epoch 9/40\n",
            "313/313 [==============================] - 1s 4ms/step - loss: 1.4421 - accuracy: 0.4987 - val_loss: 1.6189 - val_accuracy: 0.4343\n",
            "Epoch 10/40\n",
            "313/313 [==============================] - 1s 4ms/step - loss: 1.4204 - accuracy: 0.5063 - val_loss: 1.6026 - val_accuracy: 0.4466\n",
            "Epoch 11/40\n",
            "313/313 [==============================] - 1s 5ms/step - loss: 1.4027 - accuracy: 0.5123 - val_loss: 1.5900 - val_accuracy: 0.4537\n",
            "Epoch 12/40\n",
            "313/313 [==============================] - 1s 4ms/step - loss: 1.3743 - accuracy: 0.5216 - val_loss: 1.6179 - val_accuracy: 0.4462\n",
            "Epoch 13/40\n",
            "313/313 [==============================] - 1s 5ms/step - loss: 1.3536 - accuracy: 0.5256 - val_loss: 1.5982 - val_accuracy: 0.4481\n",
            "Epoch 14/40\n",
            "313/313 [==============================] - 2s 6ms/step - loss: 1.3297 - accuracy: 0.5371 - val_loss: 1.5980 - val_accuracy: 0.4520\n",
            "Epoch 15/40\n",
            "313/313 [==============================] - 2s 5ms/step - loss: 1.3186 - accuracy: 0.5397 - val_loss: 1.6033 - val_accuracy: 0.4529\n",
            "Epoch 16/40\n",
            "313/313 [==============================] - 1s 4ms/step - loss: 1.3007 - accuracy: 0.5456 - val_loss: 1.5981 - val_accuracy: 0.4498\n",
            "Epoch 17/40\n",
            "313/313 [==============================] - 2s 5ms/step - loss: 1.2793 - accuracy: 0.5565 - val_loss: 1.5997 - val_accuracy: 0.4541\n",
            "Epoch 18/40\n",
            "313/313 [==============================] - 1s 4ms/step - loss: 1.2512 - accuracy: 0.5608 - val_loss: 1.5871 - val_accuracy: 0.4601\n",
            "Epoch 19/40\n",
            "313/313 [==============================] - 1s 4ms/step - loss: 1.2430 - accuracy: 0.5681 - val_loss: 1.5964 - val_accuracy: 0.4580\n",
            "Epoch 20/40\n",
            "313/313 [==============================] - 1s 4ms/step - loss: 1.2251 - accuracy: 0.5731 - val_loss: 1.6030 - val_accuracy: 0.4564\n",
            "Epoch 21/40\n",
            "313/313 [==============================] - 1s 5ms/step - loss: 1.2074 - accuracy: 0.5791 - val_loss: 1.6061 - val_accuracy: 0.4525\n",
            "Epoch 22/40\n",
            "313/313 [==============================] - 2s 6ms/step - loss: 1.1890 - accuracy: 0.5836 - val_loss: 1.6137 - val_accuracy: 0.4603\n",
            "Epoch 23/40\n",
            "313/313 [==============================] - 2s 5ms/step - loss: 1.1684 - accuracy: 0.5925 - val_loss: 1.6141 - val_accuracy: 0.4595\n",
            "Epoch 24/40\n",
            "313/313 [==============================] - 1s 5ms/step - loss: 1.1524 - accuracy: 0.5994 - val_loss: 1.6254 - val_accuracy: 0.4570\n",
            "Epoch 25/40\n",
            "313/313 [==============================] - 1s 5ms/step - loss: 1.1382 - accuracy: 0.6037 - val_loss: 1.6337 - val_accuracy: 0.4588\n",
            "Epoch 26/40\n",
            "313/313 [==============================] - 2s 5ms/step - loss: 1.1184 - accuracy: 0.6086 - val_loss: 1.6525 - val_accuracy: 0.4557\n",
            "Epoch 27/40\n",
            "313/313 [==============================] - 1s 5ms/step - loss: 1.1077 - accuracy: 0.6169 - val_loss: 1.6357 - val_accuracy: 0.4625\n",
            "Epoch 28/40\n",
            "313/313 [==============================] - 1s 4ms/step - loss: 1.0878 - accuracy: 0.6224 - val_loss: 1.6514 - val_accuracy: 0.4589\n",
            "Epoch 29/40\n",
            "313/313 [==============================] - 1s 4ms/step - loss: 1.0727 - accuracy: 0.6266 - val_loss: 1.6492 - val_accuracy: 0.4646\n",
            "Epoch 30/40\n",
            "313/313 [==============================] - 2s 6ms/step - loss: 1.0608 - accuracy: 0.6332 - val_loss: 1.6660 - val_accuracy: 0.4577\n",
            "Epoch 31/40\n",
            "313/313 [==============================] - 2s 6ms/step - loss: 1.0446 - accuracy: 0.6368 - val_loss: 1.6812 - val_accuracy: 0.4577\n",
            "Epoch 32/40\n",
            "313/313 [==============================] - 1s 4ms/step - loss: 1.0260 - accuracy: 0.6439 - val_loss: 1.6788 - val_accuracy: 0.4603\n",
            "Epoch 33/40\n",
            "313/313 [==============================] - 1s 4ms/step - loss: 1.0200 - accuracy: 0.6448 - val_loss: 1.6911 - val_accuracy: 0.4611\n",
            "Epoch 34/40\n",
            "313/313 [==============================] - 2s 5ms/step - loss: 0.9972 - accuracy: 0.6528 - val_loss: 1.7164 - val_accuracy: 0.4535\n",
            "Epoch 35/40\n",
            "313/313 [==============================] - 1s 4ms/step - loss: 0.9943 - accuracy: 0.6549 - val_loss: 1.6953 - val_accuracy: 0.4594\n",
            "Epoch 36/40\n",
            "313/313 [==============================] - 1s 5ms/step - loss: 0.9654 - accuracy: 0.6635 - val_loss: 1.7262 - val_accuracy: 0.4607\n",
            "Epoch 37/40\n",
            "313/313 [==============================] - 1s 4ms/step - loss: 0.9569 - accuracy: 0.6685 - val_loss: 1.7196 - val_accuracy: 0.4613\n",
            "Epoch 38/40\n",
            "313/313 [==============================] - 2s 5ms/step - loss: 0.9437 - accuracy: 0.6737 - val_loss: 1.7433 - val_accuracy: 0.4513\n",
            "Epoch 39/40\n",
            "313/313 [==============================] - 2s 6ms/step - loss: 0.9299 - accuracy: 0.6808 - val_loss: 1.7646 - val_accuracy: 0.4527\n",
            "Epoch 40/40\n",
            "313/313 [==============================] - 1s 5ms/step - loss: 0.9189 - accuracy: 0.6827 - val_loss: 1.7839 - val_accuracy: 0.4476\n"
          ]
        }
      ]
    },
    {
      "cell_type": "markdown",
      "metadata": {
        "id": "uFqhzV85xprJ"
      },
      "source": [
        "Let's plot the training and validation loss and accuracy curves:"
      ]
    },
    {
      "cell_type": "code",
      "metadata": {
        "id": "BYmXGkLCxprK",
        "colab": {
          "base_uri": "https://localhost:8080/",
          "height": 881
        },
        "outputId": "5b048a5e-8f4b-446b-fb96-7962e0b1bc43"
      },
      "source": [
        "def plot_history(network_history):\n",
        "    plt.figure()\n",
        "    plt.xlabel('Epochs')\n",
        "    plt.ylabel('Loss')\n",
        "    plt.plot(network_history.history['loss'])\n",
        "    plt.plot(network_history.history['val_loss'])\n",
        "    plt.legend(['Training', 'Validation'])\n",
        "\n",
        "    plt.figure()\n",
        "    plt.xlabel('Epochs')\n",
        "    plt.ylabel('Accuracy')\n",
        "    plt.plot(network_history.history['accuracy'])\n",
        "    plt.plot(network_history.history['val_accuracy'])\n",
        "    plt.legend(['Training', 'Validation'], loc='lower right')\n",
        "    plt.show()\n",
        "\n",
        "plot_history(network_history)"
      ],
      "execution_count": 153,
      "outputs": [
        {
          "output_type": "display_data",
          "data": {
            "text/plain": [
              "<Figure size 640x480 with 1 Axes>"
            ],
            "image/png": "[encoded data removed]"
          },
          "metadata": {}
        },
        {
          "output_type": "display_data",
          "data": {
            "text/plain": [
              "<Figure size 640x480 with 1 Axes>"
            ],
            "image/png": "[encoded data removed]"
          },
          "metadata": {}
        }
      ]
    },
    {
      "cell_type": "markdown",
      "source": [
        "What do you think? Does it overfit?\n",
        "\n",
        "The model is likely overfitting because the validation accuracy is not improving, yet the accuracy of the training is improving with a greater number of epochs."
      ],
      "metadata": {
        "id": "tgG7QeXF-dx6"
      }
    },
    {
      "cell_type": "markdown",
      "metadata": {
        "id": "_Q9rIeBBxprO"
      },
      "source": [
        "# Inspecting the model"
      ]
    },
    {
      "cell_type": "code",
      "metadata": {
        "id": "6r2AmmoMxprP",
        "colab": {
          "base_uri": "https://localhost:8080/"
        },
        "outputId": "905361fc-db65-40f7-cdfa-bc09fee454b8"
      },
      "source": [
        "model.summary()"
      ],
      "execution_count": 154,
      "outputs": [
        {
          "output_type": "stream",
          "name": "stdout",
          "text": [
            "Model: \"sequential_54\"\n",
            "_________________________________________________________________\n",
            " Layer (type)                Output Shape              Param #   \n",
            "=================================================================\n",
            " dense_157 (Dense)           (None, 128)               393344    \n",
            "                                                                 \n",
            " dense_158 (Dense)           (None, 128)               16512     \n",
            "                                                                 \n",
            " dense_159 (Dense)           (None, 10)                1290      \n",
            "                                                                 \n",
            "=================================================================\n",
            "Total params: 411146 (1.57 MB)\n",
            "Trainable params: 411146 (1.57 MB)\n",
            "Non-trainable params: 0 (0.00 Byte)\n",
            "_________________________________________________________________\n"
          ]
        }
      ]
    },
    {
      "cell_type": "code",
      "metadata": {
        "id": "D3-bVDVuxprS",
        "colab": {
          "base_uri": "https://localhost:8080/"
        },
        "outputId": "935b76ea-54c7-422a-e33c-4a58985f5f62"
      },
      "source": [
        "print('Input: ', model.input)"
      ],
      "execution_count": 155,
      "outputs": [
        {
          "output_type": "stream",
          "name": "stdout",
          "text": [
            "Input:  KerasTensor(type_spec=TensorSpec(shape=(None, 3072), dtype=tf.float32, name='dense_157_input'), name='dense_157_input', description=\"created by layer 'dense_157_input'\")\n"
          ]
        }
      ]
    },
    {
      "cell_type": "code",
      "metadata": {
        "id": "Da2OJ3DmxprX",
        "colab": {
          "base_uri": "https://localhost:8080/"
        },
        "outputId": "be9b2e4d-bf9a-446c-c104-34635f47aa21"
      },
      "source": [
        "print('Layers:\\n')\n",
        "for layer in model.layers:\n",
        "    print(\"Layer's name: \", layer.name, ', trainable: ', layer.trainable)\n",
        "    print(layer.get_config(),'\\n')"
      ],
      "execution_count": 156,
      "outputs": [
        {
          "output_type": "stream",
          "name": "stdout",
          "text": [
            "Layers:\n",
            "\n",
            "Layer's name:  dense_157 , trainable:  True\n",
            "{'name': 'dense_157', 'trainable': True, 'dtype': 'float32', 'batch_input_shape': (None, 3072), 'units': 128, 'activation': 'tanh', 'use_bias': True, 'kernel_initializer': {'module': 'keras.initializers', 'class_name': 'GlorotUniform', 'config': {'seed': None}, 'registered_name': None}, 'bias_initializer': {'module': 'keras.initializers', 'class_name': 'Zeros', 'config': {}, 'registered_name': None}, 'kernel_regularizer': None, 'bias_regularizer': None, 'activity_regularizer': None, 'kernel_constraint': None, 'bias_constraint': None} \n",
            "\n",
            "Layer's name:  dense_158 , trainable:  True\n",
            "{'name': 'dense_158', 'trainable': True, 'dtype': 'float32', 'units': 128, 'activation': 'tanh', 'use_bias': True, 'kernel_initializer': {'module': 'keras.initializers', 'class_name': 'GlorotUniform', 'config': {'seed': None}, 'registered_name': None}, 'bias_initializer': {'module': 'keras.initializers', 'class_name': 'Zeros', 'config': {}, 'registered_name': None}, 'kernel_regularizer': None, 'bias_regularizer': None, 'activity_regularizer': None, 'kernel_constraint': None, 'bias_constraint': None} \n",
            "\n",
            "Layer's name:  dense_159 , trainable:  True\n",
            "{'name': 'dense_159', 'trainable': True, 'dtype': 'float32', 'units': 10, 'activation': 'softmax', 'use_bias': True, 'kernel_initializer': {'module': 'keras.initializers', 'class_name': 'GlorotUniform', 'config': {'seed': None}, 'registered_name': None}, 'bias_initializer': {'module': 'keras.initializers', 'class_name': 'Zeros', 'config': {}, 'registered_name': None}, 'kernel_regularizer': None, 'bias_regularizer': None, 'activity_regularizer': None, 'kernel_constraint': None, 'bias_constraint': None} \n",
            "\n"
          ]
        }
      ]
    },
    {
      "cell_type": "code",
      "metadata": {
        "id": "AtVX3M3lxprc",
        "colab": {
          "base_uri": "https://localhost:8080/"
        },
        "outputId": "16d2e6f3-d685-4333-874b-095381b9b14b"
      },
      "source": [
        "print('Output: ', model.output)"
      ],
      "execution_count": 157,
      "outputs": [
        {
          "output_type": "stream",
          "name": "stdout",
          "text": [
            "Output:  KerasTensor(type_spec=TensorSpec(shape=(None, 10), dtype=tf.float32, name=None), name='dense_159/Softmax:0', description=\"created by layer 'dense_159'\")\n"
          ]
        }
      ]
    },
    {
      "cell_type": "markdown",
      "source": [
        "## 2.1. Exercise\n",
        "Introduce [early stopping](https://www.tensorflow.org/api_docs/python/tf/keras/callbacks/EarlyStopping) and [dropout](https://www.tensorflow.org/api_docs/python/tf/keras/layers/Dropout) with a rate between 0.1..0.5. Tips:\n",
        "\n",
        "* Insert the dropout layer between the two Dense layers.\n",
        "* Set the patience of early stopping to 5.\n",
        "* Set the number of epochs to a very high number.\n",
        "* Don't forget to restore best weights after early stopping.\n",
        "* And also set early stopping to monitor validation accuracy (the default value is validation loss -- which is categorical crossentropy now).\n",
        "\n",
        "Compile and train the model. Attempt to increase the validation accuracy as much as possible by making changes to the dropout rate. Inspect the effects of the modifications."
      ],
      "metadata": {
        "id": "E-hHfs9qA_iO"
      }
    },
    {
      "cell_type": "code",
      "source": [
        "es = EarlyStopping(\n",
        "    monitor=\"val_accuracy\",\n",
        "    patience=5,\n",
        "    min_delta=0.001,\n",
        "    restore_best_weights=True,\n",
        ")"
      ],
      "metadata": {
        "id": "NwXrPzOgEBG-"
      },
      "execution_count": 158,
      "outputs": []
    },
    {
      "cell_type": "code",
      "source": [
        "# model definition with dropout\n",
        "model = Sequential()\n",
        "model.add(Dense(128, activation='tanh', input_shape=(flattened_dim,)))\n",
        "model.add(Dropout(rate=0.25, noise_shape=None, seed=None))\n",
        "model.add(Dense(128, activation='tanh'))\n",
        "model.add(Dense(nb_classes, activation='softmax'))\n",
        "\n",
        "# loss function and optimizer\n",
        "model.compile(loss='categorical_crossentropy', optimizer='adam', metrics=['accuracy'])"
      ],
      "metadata": {
        "id": "7hZEGzj8GFwP"
      },
      "execution_count": 159,
      "outputs": []
    },
    {
      "cell_type": "code",
      "source": [
        "# training with early stopping\n",
        "network_history = model.fit(X_train, Y_train,\n",
        "                            validation_data=(X_valid,Y_valid),\n",
        "                            batch_size=128,\n",
        "                            epochs=1000000000,\n",
        "                            verbose=1,\n",
        "                            callbacks=[es])"
      ],
      "metadata": {
        "id": "GCG54R-vGGWj",
        "colab": {
          "base_uri": "https://localhost:8080/"
        },
        "outputId": "7ee6cc4c-fdcb-4d66-8e0b-7ea10c5298ba"
      },
      "execution_count": 162,
      "outputs": [
        {
          "output_type": "stream",
          "name": "stdout",
          "text": [
            "Epoch 1/1000000000\n",
            "313/313 [==============================] - 3s 8ms/step - loss: 1.7061 - accuracy: 0.3995 - val_loss: 1.6077 - val_accuracy: 0.4278\n",
            "Epoch 2/1000000000\n",
            "313/313 [==============================] - 1s 4ms/step - loss: 1.4843 - accuracy: 0.4739 - val_loss: 1.5263 - val_accuracy: 0.4669\n",
            "Epoch 3/1000000000\n",
            "313/313 [==============================] - 1s 4ms/step - loss: 1.3767 - accuracy: 0.5154 - val_loss: 1.4721 - val_accuracy: 0.4921\n",
            "Epoch 4/1000000000\n",
            "313/313 [==============================] - 1s 4ms/step - loss: 1.2973 - accuracy: 0.5439 - val_loss: 1.4454 - val_accuracy: 0.5007\n",
            "Epoch 5/1000000000\n",
            "313/313 [==============================] - 1s 5ms/step - loss: 1.2236 - accuracy: 0.5681 - val_loss: 1.4460 - val_accuracy: 0.5030\n",
            "Epoch 6/1000000000\n",
            "313/313 [==============================] - 1s 5ms/step - loss: 1.1717 - accuracy: 0.5861 - val_loss: 1.4437 - val_accuracy: 0.5007\n",
            "Epoch 7/1000000000\n",
            "313/313 [==============================] - 1s 4ms/step - loss: 1.1077 - accuracy: 0.6094 - val_loss: 1.4656 - val_accuracy: 0.5085\n",
            "Epoch 8/1000000000\n",
            "313/313 [==============================] - 1s 5ms/step - loss: 1.0670 - accuracy: 0.6224 - val_loss: 1.4779 - val_accuracy: 0.5080\n",
            "Epoch 9/1000000000\n",
            "313/313 [==============================] - 2s 6ms/step - loss: 1.0114 - accuracy: 0.6424 - val_loss: 1.4951 - val_accuracy: 0.5094\n",
            "Epoch 10/1000000000\n",
            "313/313 [==============================] - 1s 5ms/step - loss: 0.9646 - accuracy: 0.6601 - val_loss: 1.5070 - val_accuracy: 0.5154\n",
            "Epoch 11/1000000000\n",
            "313/313 [==============================] - 1s 5ms/step - loss: 0.9209 - accuracy: 0.6737 - val_loss: 1.5670 - val_accuracy: 0.5030\n",
            "Epoch 12/1000000000\n",
            "313/313 [==============================] - 1s 4ms/step - loss: 0.8826 - accuracy: 0.6883 - val_loss: 1.5650 - val_accuracy: 0.5103\n",
            "Epoch 13/1000000000\n",
            "313/313 [==============================] - 1s 4ms/step - loss: 0.8405 - accuracy: 0.7034 - val_loss: 1.6378 - val_accuracy: 0.5006\n",
            "Epoch 14/1000000000\n",
            "313/313 [==============================] - 1s 4ms/step - loss: 0.8038 - accuracy: 0.7142 - val_loss: 1.6793 - val_accuracy: 0.5026\n",
            "Epoch 15/1000000000\n",
            "313/313 [==============================] - 1s 5ms/step - loss: 0.7632 - accuracy: 0.7273 - val_loss: 1.7097 - val_accuracy: 0.4989\n"
          ]
        }
      ]
    },
    {
      "cell_type": "markdown",
      "source": [
        "## 2.2 Exercise\n",
        "Change the [activation function of the dense layers (except the last one)](https://www.tensorflow.org/api_docs/python/tf/keras/layers/Dense) to rectified linear unit (ReLU) and the [weight initialization](https://www.tensorflow.org/api_docs/python/tf/keras/initializers) to the theoretically best one. Use the original model's code.\n",
        "\n",
        "Compile and train the model. Inspect the effects of the modifications."
      ],
      "metadata": {
        "id": "zQCDM1o1BBtF"
      }
    },
    {
      "cell_type": "code",
      "source": [
        "# model definition with relu\n",
        "model = Sequential()\n",
        "model.add(Dense(128, activation='relu', kernel_initializer='truncated_normal', input_shape=(flattened_dim,)))\n",
        "model.add(Dense(128, activation='relu', kernel_initializer='truncated_normal'))\n",
        "model.add(Dense(nb_classes, activation='softmax'))\n",
        "\n",
        "# loss function and optimizer\n",
        "model.compile(loss='categorical_crossentropy', optimizer='adam', metrics=['accuracy'])"
      ],
      "metadata": {
        "id": "YjHAAh-wGu9O"
      },
      "execution_count": 163,
      "outputs": []
    },
    {
      "cell_type": "code",
      "source": [
        "# training\n",
        "network_history = model.fit(X_train, Y_train,\n",
        "                            validation_data=(X_valid,Y_valid),\n",
        "                            batch_size=128,\n",
        "                            epochs=40,\n",
        "                            verbose=1)"
      ],
      "metadata": {
        "id": "rarwKM1wGxMz",
        "colab": {
          "base_uri": "https://localhost:8080/"
        },
        "outputId": "63933bef-f3af-4aca-8f14-219f5d2eddb2"
      },
      "execution_count": 164,
      "outputs": [
        {
          "output_type": "stream",
          "name": "stdout",
          "text": [
            "Epoch 1/40\n",
            "313/313 [==============================] - 3s 7ms/step - loss: 1.6916 - accuracy: 0.4051 - val_loss: 1.5923 - val_accuracy: 0.4331\n",
            "Epoch 2/40\n",
            "313/313 [==============================] - 1s 4ms/step - loss: 1.4805 - accuracy: 0.4794 - val_loss: 1.5111 - val_accuracy: 0.4747\n",
            "Epoch 3/40\n",
            "313/313 [==============================] - 1s 4ms/step - loss: 1.3719 - accuracy: 0.5139 - val_loss: 1.4879 - val_accuracy: 0.4788\n",
            "Epoch 4/40\n",
            "313/313 [==============================] - 1s 5ms/step - loss: 1.2933 - accuracy: 0.5439 - val_loss: 1.4514 - val_accuracy: 0.4981\n",
            "Epoch 5/40\n",
            "313/313 [==============================] - 1s 5ms/step - loss: 1.2236 - accuracy: 0.5709 - val_loss: 1.4807 - val_accuracy: 0.4920\n",
            "Epoch 6/40\n",
            "313/313 [==============================] - 1s 4ms/step - loss: 1.1617 - accuracy: 0.5911 - val_loss: 1.4593 - val_accuracy: 0.4984\n",
            "Epoch 7/40\n",
            "313/313 [==============================] - 1s 5ms/step - loss: 1.1062 - accuracy: 0.6089 - val_loss: 1.4753 - val_accuracy: 0.5076\n",
            "Epoch 8/40\n",
            "313/313 [==============================] - 1s 5ms/step - loss: 1.0535 - accuracy: 0.6294 - val_loss: 1.4664 - val_accuracy: 0.5147\n",
            "Epoch 9/40\n",
            "313/313 [==============================] - 2s 6ms/step - loss: 1.0030 - accuracy: 0.6436 - val_loss: 1.5101 - val_accuracy: 0.5026\n",
            "Epoch 10/40\n",
            "313/313 [==============================] - 2s 5ms/step - loss: 0.9621 - accuracy: 0.6592 - val_loss: 1.5288 - val_accuracy: 0.5076\n",
            "Epoch 11/40\n",
            "313/313 [==============================] - 2s 5ms/step - loss: 0.9133 - accuracy: 0.6754 - val_loss: 1.5318 - val_accuracy: 0.5080\n",
            "Epoch 12/40\n",
            "313/313 [==============================] - 1s 5ms/step - loss: 0.8731 - accuracy: 0.6915 - val_loss: 1.5636 - val_accuracy: 0.5137\n",
            "Epoch 13/40\n",
            "313/313 [==============================] - 1s 4ms/step - loss: 0.8378 - accuracy: 0.7041 - val_loss: 1.6158 - val_accuracy: 0.5061\n",
            "Epoch 14/40\n",
            "313/313 [==============================] - 1s 5ms/step - loss: 0.7996 - accuracy: 0.7196 - val_loss: 1.6590 - val_accuracy: 0.5041\n",
            "Epoch 15/40\n",
            "313/313 [==============================] - 1s 4ms/step - loss: 0.7562 - accuracy: 0.7345 - val_loss: 1.7129 - val_accuracy: 0.5066\n",
            "Epoch 16/40\n",
            "313/313 [==============================] - 2s 5ms/step - loss: 0.7309 - accuracy: 0.7408 - val_loss: 1.7582 - val_accuracy: 0.5027\n",
            "Epoch 17/40\n",
            "313/313 [==============================] - 2s 6ms/step - loss: 0.6945 - accuracy: 0.7551 - val_loss: 1.8187 - val_accuracy: 0.5035\n",
            "Epoch 18/40\n",
            "313/313 [==============================] - 2s 5ms/step - loss: 0.6658 - accuracy: 0.7639 - val_loss: 1.8841 - val_accuracy: 0.5009\n",
            "Epoch 19/40\n",
            "313/313 [==============================] - 1s 5ms/step - loss: 0.6323 - accuracy: 0.7783 - val_loss: 1.9128 - val_accuracy: 0.4957\n",
            "Epoch 20/40\n",
            "313/313 [==============================] - 1s 5ms/step - loss: 0.6079 - accuracy: 0.7836 - val_loss: 1.9619 - val_accuracy: 0.4954\n",
            "Epoch 21/40\n",
            "313/313 [==============================] - 1s 4ms/step - loss: 0.5805 - accuracy: 0.7945 - val_loss: 2.0229 - val_accuracy: 0.5003\n",
            "Epoch 22/40\n",
            "313/313 [==============================] - 1s 4ms/step - loss: 0.5494 - accuracy: 0.8045 - val_loss: 2.1712 - val_accuracy: 0.4867\n",
            "Epoch 23/40\n",
            "313/313 [==============================] - 1s 4ms/step - loss: 0.5342 - accuracy: 0.8111 - val_loss: 2.0893 - val_accuracy: 0.5051\n",
            "Epoch 24/40\n",
            "313/313 [==============================] - 1s 4ms/step - loss: 0.5138 - accuracy: 0.8186 - val_loss: 2.2374 - val_accuracy: 0.5001\n",
            "Epoch 25/40\n",
            "313/313 [==============================] - 2s 6ms/step - loss: 0.4930 - accuracy: 0.8244 - val_loss: 2.2340 - val_accuracy: 0.5085\n",
            "Epoch 26/40\n",
            "313/313 [==============================] - 2s 6ms/step - loss: 0.4630 - accuracy: 0.8368 - val_loss: 2.3342 - val_accuracy: 0.4984\n",
            "Epoch 27/40\n",
            "313/313 [==============================] - 1s 5ms/step - loss: 0.4458 - accuracy: 0.8434 - val_loss: 2.3828 - val_accuracy: 0.4911\n",
            "Epoch 28/40\n",
            "313/313 [==============================] - 1s 5ms/step - loss: 0.4167 - accuracy: 0.8537 - val_loss: 2.4679 - val_accuracy: 0.4917\n",
            "Epoch 29/40\n",
            "313/313 [==============================] - 2s 5ms/step - loss: 0.4175 - accuracy: 0.8524 - val_loss: 2.5089 - val_accuracy: 0.4890\n",
            "Epoch 30/40\n",
            "313/313 [==============================] - 2s 5ms/step - loss: 0.3960 - accuracy: 0.8621 - val_loss: 2.5966 - val_accuracy: 0.4940\n",
            "Epoch 31/40\n",
            "313/313 [==============================] - 1s 5ms/step - loss: 0.3926 - accuracy: 0.8630 - val_loss: 2.6266 - val_accuracy: 0.4890\n",
            "Epoch 32/40\n",
            "313/313 [==============================] - 2s 5ms/step - loss: 0.3686 - accuracy: 0.8709 - val_loss: 2.7225 - val_accuracy: 0.4955\n",
            "Epoch 33/40\n",
            "313/313 [==============================] - 2s 6ms/step - loss: 0.3454 - accuracy: 0.8777 - val_loss: 2.8205 - val_accuracy: 0.4926\n",
            "Epoch 34/40\n",
            "313/313 [==============================] - 2s 5ms/step - loss: 0.3515 - accuracy: 0.8776 - val_loss: 2.8603 - val_accuracy: 0.4826\n",
            "Epoch 35/40\n",
            "313/313 [==============================] - 2s 5ms/step - loss: 0.3380 - accuracy: 0.8828 - val_loss: 2.9181 - val_accuracy: 0.4868\n",
            "Epoch 36/40\n",
            "313/313 [==============================] - 2s 5ms/step - loss: 0.3068 - accuracy: 0.8920 - val_loss: 3.0818 - val_accuracy: 0.4853\n",
            "Epoch 37/40\n",
            "313/313 [==============================] - 1s 5ms/step - loss: 0.3062 - accuracy: 0.8918 - val_loss: 3.1199 - val_accuracy: 0.4802\n",
            "Epoch 38/40\n",
            "313/313 [==============================] - 2s 5ms/step - loss: 0.3061 - accuracy: 0.8933 - val_loss: 3.1760 - val_accuracy: 0.4848\n",
            "Epoch 39/40\n",
            "313/313 [==============================] - 1s 4ms/step - loss: 0.2893 - accuracy: 0.8988 - val_loss: 3.2553 - val_accuracy: 0.4832\n",
            "Epoch 40/40\n",
            "313/313 [==============================] - 1s 4ms/step - loss: 0.2739 - accuracy: 0.9048 - val_loss: 3.3203 - val_accuracy: 0.4861\n"
          ]
        }
      ]
    },
    {
      "cell_type": "markdown",
      "source": [
        "# 2.3. Exercise\n",
        "Based on the modifications above, and by any further modifications (e.g. more layers, less layers, more neurons/layer, etc.) to the model design, find a combination that is able to achieve **validation accuracy, that is higher than 53%**.\n"
      ],
      "metadata": {
        "id": "j1tGVPdD-pp3"
      }
    },
    {
      "cell_type": "code",
      "source": [
        "es = EarlyStopping(\n",
        "    monitor=\"val_accuracy\",\n",
        "    patience=5,\n",
        "    min_delta=0.001,\n",
        "    restore_best_weights=True,\n",
        ")"
      ],
      "metadata": {
        "id": "5dBQxJHIHrbd"
      },
      "execution_count": 165,
      "outputs": []
    },
    {
      "cell_type": "code",
      "source": [
        "# model definition\n",
        "model = Sequential()\n",
        "\n",
        "model.add(Dense(256, activation='relu', kernel_initializer='he_normal', input_shape=(flattened_dim,)))\n",
        "model.add(Dropout(rate=0.35, noise_shape=None, seed=None))\n",
        "model.add(Dense(256, activation='relu', kernel_initializer='glorot_uniform'))\n",
        "model.add(Dense(nb_classes, activation='softmax'))\n",
        "\n",
        "# loss function and optimizer\n",
        "model.compile(loss='categorical_crossentropy', optimizer='adam', metrics=['accuracy'])"
      ],
      "metadata": {
        "id": "PuxHOqLt-3Nd"
      },
      "execution_count": 168,
      "outputs": []
    },
    {
      "cell_type": "code",
      "source": [
        "# training\n",
        "network_history = model.fit(X_train, Y_train,\n",
        "                            validation_data=(X_valid,Y_valid),\n",
        "                            batch_size=128,\n",
        "                            epochs=1000000000,\n",
        "                            verbose=1,\n",
        "                            callbacks=[es])"
      ],
      "metadata": {
        "id": "u8tFNCNVHyt9",
        "colab": {
          "base_uri": "https://localhost:8080/"
        },
        "outputId": "ffaadfe7-9c7e-43e9-c506-578d9919e7be"
      },
      "execution_count": 169,
      "outputs": [
        {
          "output_type": "stream",
          "name": "stdout",
          "text": [
            "Epoch 1/1000000000\n",
            "313/313 [==============================] - 4s 8ms/step - loss: 1.9094 - accuracy: 0.3423 - val_loss: 1.6601 - val_accuracy: 0.4104\n",
            "Epoch 2/1000000000\n",
            "313/313 [==============================] - 2s 5ms/step - loss: 1.6482 - accuracy: 0.4145 - val_loss: 1.5589 - val_accuracy: 0.4560\n",
            "Epoch 3/1000000000\n",
            "313/313 [==============================] - 2s 5ms/step - loss: 1.5622 - accuracy: 0.4449 - val_loss: 1.5071 - val_accuracy: 0.4768\n",
            "Epoch 4/1000000000\n",
            "313/313 [==============================] - 2s 5ms/step - loss: 1.4978 - accuracy: 0.4715 - val_loss: 1.4883 - val_accuracy: 0.4735\n",
            "Epoch 5/1000000000\n",
            "313/313 [==============================] - 2s 5ms/step - loss: 1.4564 - accuracy: 0.4854 - val_loss: 1.4595 - val_accuracy: 0.4887\n",
            "Epoch 6/1000000000\n",
            "313/313 [==============================] - 2s 5ms/step - loss: 1.4209 - accuracy: 0.4977 - val_loss: 1.4282 - val_accuracy: 0.5032\n",
            "Epoch 7/1000000000\n",
            "313/313 [==============================] - 2s 5ms/step - loss: 1.3834 - accuracy: 0.5096 - val_loss: 1.4310 - val_accuracy: 0.5001\n",
            "Epoch 8/1000000000\n",
            "313/313 [==============================] - 2s 6ms/step - loss: 1.3612 - accuracy: 0.5164 - val_loss: 1.4090 - val_accuracy: 0.5097\n",
            "Epoch 9/1000000000\n",
            "313/313 [==============================] - 2s 5ms/step - loss: 1.3346 - accuracy: 0.5234 - val_loss: 1.4025 - val_accuracy: 0.5108\n",
            "Epoch 10/1000000000\n",
            "313/313 [==============================] - 2s 5ms/step - loss: 1.3058 - accuracy: 0.5347 - val_loss: 1.3992 - val_accuracy: 0.5049\n",
            "Epoch 11/1000000000\n",
            "313/313 [==============================] - 1s 5ms/step - loss: 1.2835 - accuracy: 0.5444 - val_loss: 1.3785 - val_accuracy: 0.5150\n",
            "Epoch 12/1000000000\n",
            "313/313 [==============================] - 1s 5ms/step - loss: 1.2635 - accuracy: 0.5515 - val_loss: 1.3759 - val_accuracy: 0.5169\n",
            "Epoch 13/1000000000\n",
            "313/313 [==============================] - 2s 5ms/step - loss: 1.2463 - accuracy: 0.5559 - val_loss: 1.3890 - val_accuracy: 0.5132\n",
            "Epoch 14/1000000000\n",
            "313/313 [==============================] - 2s 5ms/step - loss: 1.2301 - accuracy: 0.5652 - val_loss: 1.3637 - val_accuracy: 0.5262\n",
            "Epoch 15/1000000000\n",
            "313/313 [==============================] - 2s 5ms/step - loss: 1.2079 - accuracy: 0.5701 - val_loss: 1.3770 - val_accuracy: 0.5117\n",
            "Epoch 16/1000000000\n",
            "313/313 [==============================] - 2s 8ms/step - loss: 1.1900 - accuracy: 0.5772 - val_loss: 1.3603 - val_accuracy: 0.5234\n",
            "Epoch 17/1000000000\n",
            "313/313 [==============================] - 2s 5ms/step - loss: 1.1764 - accuracy: 0.5811 - val_loss: 1.3575 - val_accuracy: 0.5315\n",
            "Epoch 18/1000000000\n",
            "313/313 [==============================] - 2s 5ms/step - loss: 1.1586 - accuracy: 0.5885 - val_loss: 1.3631 - val_accuracy: 0.5268\n",
            "Epoch 19/1000000000\n",
            "313/313 [==============================] - 2s 5ms/step - loss: 1.1399 - accuracy: 0.5964 - val_loss: 1.3563 - val_accuracy: 0.5313\n",
            "Epoch 20/1000000000\n",
            "313/313 [==============================] - 2s 5ms/step - loss: 1.1312 - accuracy: 0.5975 - val_loss: 1.3717 - val_accuracy: 0.5288\n",
            "Epoch 21/1000000000\n",
            "313/313 [==============================] - 1s 5ms/step - loss: 1.1063 - accuracy: 0.6078 - val_loss: 1.3737 - val_accuracy: 0.5268\n",
            "Epoch 22/1000000000\n",
            "313/313 [==============================] - 2s 5ms/step - loss: 1.1008 - accuracy: 0.6084 - val_loss: 1.3713 - val_accuracy: 0.5233\n"
          ]
        }
      ]
    },
    {
      "cell_type": "markdown",
      "source": [
        "# 3. Evaluation on test data and inference\n",
        "At this point, we will perform a basic evaluation and inference. With the model.evaluate function, the same metrics are calculated, that were used during training:"
      ],
      "metadata": {
        "id": "2FtKp-a2-A9m"
      }
    },
    {
      "cell_type": "code",
      "source": [
        "print(model.evaluate(X_test, Y_test))"
      ],
      "metadata": {
        "id": "I3_9wgDREUna",
        "colab": {
          "base_uri": "https://localhost:8080/"
        },
        "outputId": "13a1c73f-713b-4ce7-9e6c-416c58b801e3"
      },
      "execution_count": 170,
      "outputs": [
        {
          "output_type": "stream",
          "name": "stdout",
          "text": [
            "313/313 [==============================] - 1s 3ms/step - loss: 1.3338 - accuracy: 0.5317\n",
            "[1.3338474035263062, 0.5317000150680542]\n"
          ]
        }
      ]
    },
    {
      "cell_type": "markdown",
      "source": [
        "we would like to see similar values, as in the validation set. If those are close to each other, then the generalization ability of the model is good (in case of an independent test-set)."
      ],
      "metadata": {
        "id": "ECHguBFtGL7f"
      }
    },
    {
      "cell_type": "markdown",
      "source": [
        "## 3.1. Exercise\n",
        "Predict the class of the first 10 elements in the test set, and compare the predicted values with the actual, target values in the test set. Hints:\n",
        "* you can use [model.predict](https://www.activestate.com/resources/quick-reads/how-to-use-a-model-to-do-predictions-with-keras/) for prediction\n",
        "* from the output you can select the largest value with the [argmax() function of Numpy](https://stackoverflow.com/questions/62358642/convert-one-hot-encoding-back-to-number-label). As there are multiple values, you have to call it with axis=1 parameter.\n",
        "* it is enought to compare the predictions and the targets by printing the values out and inspecting them."
      ],
      "metadata": {
        "id": "0Io4zYJeHjz6"
      }
    },
    {
      "cell_type": "code",
      "source": [
        "preds = model.predict(X_test)\n",
        "preds_dense = np.argmax(preds, axis=1)"
      ],
      "metadata": {
        "id": "XEEyU7exILqF",
        "colab": {
          "base_uri": "https://localhost:8080/"
        },
        "outputId": "bfc65556-2b3d-4e08-a373-15c7225bfcc9"
      },
      "execution_count": 173,
      "outputs": [
        {
          "output_type": "stream",
          "name": "stdout",
          "text": [
            "313/313 [==============================] - 1s 2ms/step\n"
          ]
        }
      ]
    },
    {
      "cell_type": "markdown",
      "source": [
        "Before comparision, you have to convert back the one-hot encoded target values the same way, as you converted the output of the neural network to class values with argmax() function."
      ],
      "metadata": {
        "id": "seZTEFI-I5cZ"
      }
    },
    {
      "cell_type": "code",
      "source": [
        "print(\"Target labels:\", np.argmax(Y_test[:10],axis=1))\n",
        "print(\"Predicted labels:\", preds_dense[:10])"
      ],
      "metadata": {
        "id": "PHLvoMuIIkJ6",
        "colab": {
          "base_uri": "https://localhost:8080/"
        },
        "outputId": "644bc56b-a4be-4389-88d8-efada0628507"
      },
      "execution_count": 178,
      "outputs": [
        {
          "output_type": "stream",
          "name": "stdout",
          "text": [
            "Target labels: [3 8 8 0 6 6 1 6 3 1]\n",
            "Predicted labels: [8 8 8 0 4 6 5 6 5 1]\n"
          ]
        }
      ]
    },
    {
      "cell_type": "code",
      "source": [],
      "metadata": {
        "id": "FkkyyqaD1PA2"
      },
      "execution_count": null,
      "outputs": []
    }
  ]
}