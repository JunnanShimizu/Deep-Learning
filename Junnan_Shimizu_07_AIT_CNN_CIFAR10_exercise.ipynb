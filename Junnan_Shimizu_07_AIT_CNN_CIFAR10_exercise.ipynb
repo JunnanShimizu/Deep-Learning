{
  "nbformat": 4,
  "nbformat_minor": 0,
  "metadata": {
    "anaconda-cloud": {},
    "kernelspec": {
      "display_name": "Python 3",
      "language": "python",
      "name": "python3"
    },
    "language_info": {
      "codemirror_mode": {
        "name": "ipython",
        "version": 3
      },
      "file_extension": ".py",
      "mimetype": "text/x-python",
      "name": "python",
      "nbconvert_exporter": "python",
      "pygments_lexer": "ipython3",
      "version": "3.6.6"
    },
    "colab": {
      "provenance": [],
      "include_colab_link": true
    },
    "accelerator": "GPU"
  },
  "cells": [
    {
      "cell_type": "markdown",
      "metadata": {
        "id": "view-in-github",
        "colab_type": "text"
      },
      "source": [
        "<a href=\"https://colab.research.google.com/github/JunnanShimizu/DeepLearning/blob/main/Junnan_Shimizu_07_AIT_CNN_CIFAR10_exercise.ipynb\" target=\"_parent\"><img src=\"https://colab.research.google.com/assets/colab-badge.svg\" alt=\"Open In Colab\"/></a>"
      ]
    },
    {
      "cell_type": "markdown",
      "metadata": {
        "id": "cW-EyI5Lxpqi"
      },
      "source": [
        "# Copyright\n",
        "\n",
        "<PRE>\n",
        "Copyright (c) 2024 Bálint Gyires-Tóth - All Rights Reserved\n",
        "You may use and modify this code for research and development purpuses.\n",
        "Using this code for educational purposes (self-paced or instructor led) without the permission of the author is prohibited.\n",
        "</PRE>"
      ]
    },
    {
      "cell_type": "markdown",
      "source": [
        "# Convolutional Neural Network exercise\n",
        "\n",
        "In this notebook, you will build a convolutional neural network, which offers superior results over the previous MLP solution. Additionally, you will perform a more detailed evaluation."
      ],
      "metadata": {
        "id": "3EX4cCa4WKJu"
      }
    },
    {
      "cell_type": "code",
      "source": [
        "# imports\n",
        "from tensorflow.keras.datasets import cifar10\n",
        "from tensorflow.keras.utils import to_categorical\n",
        "import numpy as np\n",
        "import matplotlib.pyplot as plt\n",
        "from tensorflow.keras.models import Sequential\n",
        "from tensorflow.keras.layers import Dense, Conv2D, MaxPool2D, Flatten, Dropout, BatchNormalization\n",
        "from tensorflow.keras.initializers import HeNormal\n",
        "from tensorflow.keras.callbacks import EarlyStopping\n",
        "\n",
        "from tensorflow.keras.optimizers import Adam"
      ],
      "metadata": {
        "id": "GdCMhy4HA2qd"
      },
      "execution_count": 86,
      "outputs": []
    },
    {
      "cell_type": "markdown",
      "source": [
        "# 1. Data\n",
        "The dataset we will use is the well-known CIFAR10 (Canadian Institute For Advanced Research). Explore the details on the Keras website first: https://keras.io/api/datasets/cifar10/\n",
        "\n",
        "There isn't much difference between the data preprocessing part and the one we did before. The only difference is that we don't have to reshape images into vectors, but we are working with a 4 dimensional data structure, where the dimensions are: batch, X, Y, and color channels.\n",
        "\n",
        "In the event that anything is not clear regarding the data preparation part, please check the previous CIFAR10 notebook."
      ],
      "metadata": {
        "id": "yY9fztIeWIKt"
      }
    },
    {
      "cell_type": "code",
      "source": [
        "(X_train, Y_train), (X_test, Y_test) = cifar10.load_data()"
      ],
      "metadata": {
        "id": "bez7q0eiWQCK"
      },
      "execution_count": 87,
      "outputs": []
    },
    {
      "cell_type": "code",
      "source": [
        "# it is in int8 format, the neural network requires float32\n",
        "X_train = X_train.astype(\"float32\")\n",
        "X_test = X_test.astype(\"float32\")"
      ],
      "metadata": {
        "id": "vukOcBM0XzSj"
      },
      "execution_count": 88,
      "outputs": []
    },
    {
      "cell_type": "code",
      "source": [
        "train_ratio  = 0.8\n",
        "train_length = X_train.shape[0]\n",
        "train_split  = int(train_ratio*train_length)\n",
        "X_valid, Y_valid = X_train[train_split:], Y_train[train_split:]\n",
        "X_train, Y_train = X_train[:train_split], Y_train[:train_split]"
      ],
      "metadata": {
        "id": "mRwuWxxIxLgN"
      },
      "execution_count": 89,
      "outputs": []
    },
    {
      "cell_type": "code",
      "source": [
        "mean = X_train.mean(axis=0)\n",
        "std  = X_train.std(axis=0)\n",
        "\n",
        "X_train = (X_train-mean)/std\n",
        "X_valid = (X_valid-mean)/std\n",
        "X_test  = (X_test-mean)/std"
      ],
      "metadata": {
        "id": "2ESLP1EIyB2J"
      },
      "execution_count": 90,
      "outputs": []
    },
    {
      "cell_type": "code",
      "source": [
        "nb_classes = len(np.unique(Y_train))\n",
        "Y_train = to_categorical(Y_train, nb_classes)\n",
        "Y_valid = to_categorical(Y_valid, nb_classes)\n",
        "Y_test  = to_categorical(Y_test, nb_classes)"
      ],
      "metadata": {
        "id": "xwZ4OJ6I8lba"
      },
      "execution_count": 91,
      "outputs": []
    },
    {
      "cell_type": "code",
      "source": [
        "print(\"Shapes of the training, validation and test input data:\", X_train.shape, X_valid.shape, X_test.shape)\n",
        "print(\"Shapes of the training, validation and test output data:\", Y_train.shape, Y_valid.shape, Y_test.shape)\n",
        "print(\"Mean values of the training, validation and test input data:\", X_train.mean(), X_valid.mean(), X_test.mean())\n",
        "print(\"Standard deviation of the training, validation and test input data:\", X_train.std(), X_valid.std(), X_test.std())"
      ],
      "metadata": {
        "id": "O_jdJVcvX0vi",
        "colab": {
          "base_uri": "https://localhost:8080/"
        },
        "outputId": "3190d061-26b1-4a92-d9c8-8a5dd75191cf"
      },
      "execution_count": 92,
      "outputs": [
        {
          "output_type": "stream",
          "name": "stdout",
          "text": [
            "Shapes of the training, validation and test input data: (40000, 32, 32, 3) (10000, 32, 32, 3) (10000, 32, 32, 3)\n",
            "Shapes of the training, validation and test output data: (40000, 10) (10000, 10) (10000, 10)\n",
            "Mean values of the training, validation and test input data: 2.2788842e-09 0.0023437198 0.013331206\n",
            "Standard deviation of the training, validation and test input data: 1.0000023 0.9965626 0.99783075\n"
          ]
        }
      ]
    },
    {
      "cell_type": "markdown",
      "metadata": {
        "id": "cJ14oyZExpqj"
      },
      "source": [
        "# 2. Exercise: training"
      ]
    },
    {
      "cell_type": "markdown",
      "source": [
        "Create and train a convolutional neural network with the following requirements:\n",
        "* apply early stopping with patience=5 and monitor the validation accuracy, don't forget to load back the best weights after early stopping\n",
        "* the number of trainable parameters is lower than 200.000\n",
        "* the validation accuracy must be higher than 72%\n",
        "\n",
        "Hints:\n",
        "* you can always inspect the number of trainable parameters per layer with model.summary()\n",
        "* usually the most trainable parameters are between the last convolutional layer and the next dense layer -- so you should have a reasonable output size at the last convolutional layer\n",
        "* regularization helps (e.g. DropOut and/or BatchNormalization)\n",
        "* use the right activation function at the output layer and the corresponding loss function\n",
        "* for the chosen activation functions, please use the appropriate initialization method\n",
        "* you can match the dimension of the last conv/pooling layer to the next dense layer with e.g. Flatten()\n",
        "* ADAM optimizer is a reasonable choice\n",
        "* don't forget to turn on GPU support in Colab, otherwise, it would be quite slow to train the networks\n",
        "\n"
      ],
      "metadata": {
        "id": "j1tGVPdD-pp3"
      }
    },
    {
      "cell_type": "code",
      "source": [
        "es = EarlyStopping(monitor='val_accuracy', mode='max', verbose=1, patience=5, restore_best_weights=True) # early stopping"
      ],
      "metadata": {
        "id": "5dBQxJHIHrbd"
      },
      "execution_count": 93,
      "outputs": []
    },
    {
      "cell_type": "markdown",
      "source": [],
      "metadata": {
        "id": "9RZ3j8bOZ35h"
      }
    },
    {
      "cell_type": "code",
      "source": [
        "# model definition\n",
        "model = Sequential()\n",
        "\n",
        "model.add(Conv2D(16, (3, 3), activation='relu', kernel_initializer='he_uniform', padding='same', input_shape=(32, 32, 3)))\n",
        "model.add(BatchNormalization())\n",
        "model.add(MaxPool2D((2, 2)))\n",
        "model.add(Dropout(0.2))\n",
        "\n",
        "model.add(Conv2D(32, (3, 3), activation='relu', kernel_initializer='he_uniform', padding='same'))\n",
        "model.add(BatchNormalization())\n",
        "model.add(MaxPool2D((2, 2)))\n",
        "model.add(Dropout(0.3))\n",
        "\n",
        "model.add(Conv2D(64, (3, 3), activation='relu', kernel_initializer='he_uniform', padding='same'))\n",
        "model.add(BatchNormalization())\n",
        "model.add(MaxPool2D((2, 2)))\n",
        "model.add(Dropout(0.4))\n",
        "\n",
        "model.add(Flatten())\n",
        "model.add(Dense(64, activation='relu', kernel_initializer='he_uniform'))\n",
        "model.add(BatchNormalization())\n",
        "model.add(Dropout(0.5))\n",
        "\n",
        "model.add(Dense(32, activation='relu', kernel_initializer='he_uniform'))\n",
        "model.add(BatchNormalization())\n",
        "model.add(Dropout(0.5))\n",
        "\n",
        "model.add(Dense(10, activation='softmax'))  # 10 nodes for 10 classes\n",
        "\n",
        "# loss function and optimizer\n",
        "model.compile(optimizer=Adam(), loss='categorical_crossentropy', metrics=['accuracy'])"
      ],
      "metadata": {
        "id": "PuxHOqLt-3Nd"
      },
      "execution_count": 94,
      "outputs": []
    },
    {
      "cell_type": "code",
      "source": [
        "model.summary()"
      ],
      "metadata": {
        "id": "5eomQw8uE9Ix",
        "colab": {
          "base_uri": "https://localhost:8080/"
        },
        "outputId": "d4112eb0-4ca5-4255-f35b-b1fe4510f8a1"
      },
      "execution_count": 95,
      "outputs": [
        {
          "output_type": "stream",
          "name": "stdout",
          "text": [
            "Model: \"sequential_8\"\n",
            "_________________________________________________________________\n",
            " Layer (type)                Output Shape              Param #   \n",
            "=================================================================\n",
            " conv2d_18 (Conv2D)          (None, 32, 32, 16)        448       \n",
            "                                                                 \n",
            " batch_normalization_28 (Ba  (None, 32, 32, 16)        64        \n",
            " tchNormalization)                                               \n",
            "                                                                 \n",
            " max_pooling2d_17 (MaxPooli  (None, 16, 16, 16)        0         \n",
            " ng2D)                                                           \n",
            "                                                                 \n",
            " dropout_27 (Dropout)        (None, 16, 16, 16)        0         \n",
            "                                                                 \n",
            " conv2d_19 (Conv2D)          (None, 16, 16, 32)        4640      \n",
            "                                                                 \n",
            " batch_normalization_29 (Ba  (None, 16, 16, 32)        128       \n",
            " tchNormalization)                                               \n",
            "                                                                 \n",
            " max_pooling2d_18 (MaxPooli  (None, 8, 8, 32)          0         \n",
            " ng2D)                                                           \n",
            "                                                                 \n",
            " dropout_28 (Dropout)        (None, 8, 8, 32)          0         \n",
            "                                                                 \n",
            " conv2d_20 (Conv2D)          (None, 8, 8, 64)          18496     \n",
            "                                                                 \n",
            " batch_normalization_30 (Ba  (None, 8, 8, 64)          256       \n",
            " tchNormalization)                                               \n",
            "                                                                 \n",
            " max_pooling2d_19 (MaxPooli  (None, 4, 4, 64)          0         \n",
            " ng2D)                                                           \n",
            "                                                                 \n",
            " dropout_29 (Dropout)        (None, 4, 4, 64)          0         \n",
            "                                                                 \n",
            " flatten_7 (Flatten)         (None, 1024)              0         \n",
            "                                                                 \n",
            " dense_17 (Dense)            (None, 64)                65600     \n",
            "                                                                 \n",
            " batch_normalization_31 (Ba  (None, 64)                256       \n",
            " tchNormalization)                                               \n",
            "                                                                 \n",
            " dropout_30 (Dropout)        (None, 64)                0         \n",
            "                                                                 \n",
            " dense_18 (Dense)            (None, 32)                2080      \n",
            "                                                                 \n",
            " batch_normalization_32 (Ba  (None, 32)                128       \n",
            " tchNormalization)                                               \n",
            "                                                                 \n",
            " dropout_31 (Dropout)        (None, 32)                0         \n",
            "                                                                 \n",
            " dense_19 (Dense)            (None, 10)                330       \n",
            "                                                                 \n",
            "=================================================================\n",
            "Total params: 92426 (361.04 KB)\n",
            "Trainable params: 92010 (359.41 KB)\n",
            "Non-trainable params: 416 (1.62 KB)\n",
            "_________________________________________________________________\n"
          ]
        }
      ]
    },
    {
      "cell_type": "markdown",
      "source": [
        "Please, check the number of trainable paramers:"
      ],
      "metadata": {
        "id": "8tIbIIeTEI41"
      }
    },
    {
      "cell_type": "code",
      "source": [
        "print(\"#trainable parameters:\", model.count_params())"
      ],
      "metadata": {
        "id": "xdBAG7EJETlX",
        "colab": {
          "base_uri": "https://localhost:8080/"
        },
        "outputId": "79ab5970-5726-416e-b3ab-f4a97f64ef0f"
      },
      "execution_count": 96,
      "outputs": [
        {
          "output_type": "stream",
          "name": "stdout",
          "text": [
            "#trainable parameters: 92426\n"
          ]
        }
      ]
    },
    {
      "cell_type": "code",
      "source": [
        "# training\n",
        "network_history = model.fit(X_train, Y_train, validation_data=(X_test, Y_test), epochs=100, callbacks=[es])"
      ],
      "metadata": {
        "id": "u8tFNCNVHyt9",
        "colab": {
          "base_uri": "https://localhost:8080/"
        },
        "outputId": "fc37dca9-fe0e-4768-bb9a-dc3531ff57c1"
      },
      "execution_count": 97,
      "outputs": [
        {
          "output_type": "stream",
          "name": "stdout",
          "text": [
            "Epoch 1/100\n",
            "1250/1250 [==============================] - 12s 8ms/step - loss: 2.0441 - accuracy: 0.2662 - val_loss: 1.6341 - val_accuracy: 0.3971\n",
            "Epoch 2/100\n",
            "1250/1250 [==============================] - 9s 7ms/step - loss: 1.6624 - accuracy: 0.3831 - val_loss: 1.5294 - val_accuracy: 0.4329\n",
            "Epoch 3/100\n",
            "1250/1250 [==============================] - 9s 7ms/step - loss: 1.5270 - accuracy: 0.4431 - val_loss: 1.3057 - val_accuracy: 0.5256\n",
            "Epoch 4/100\n",
            "1250/1250 [==============================] - 9s 7ms/step - loss: 1.4443 - accuracy: 0.4821 - val_loss: 1.2473 - val_accuracy: 0.5404\n",
            "Epoch 5/100\n",
            "1250/1250 [==============================] - 10s 8ms/step - loss: 1.3774 - accuracy: 0.5124 - val_loss: 1.2581 - val_accuracy: 0.5340\n",
            "Epoch 6/100\n",
            "1250/1250 [==============================] - 9s 8ms/step - loss: 1.3259 - accuracy: 0.5336 - val_loss: 1.1239 - val_accuracy: 0.5911\n",
            "Epoch 7/100\n",
            "1250/1250 [==============================] - 9s 7ms/step - loss: 1.2934 - accuracy: 0.5502 - val_loss: 1.0315 - val_accuracy: 0.6362\n",
            "Epoch 8/100\n",
            "1250/1250 [==============================] - 9s 7ms/step - loss: 1.2645 - accuracy: 0.5634 - val_loss: 1.0795 - val_accuracy: 0.6131\n",
            "Epoch 9/100\n",
            "1250/1250 [==============================] - 9s 7ms/step - loss: 1.2388 - accuracy: 0.5710 - val_loss: 0.9833 - val_accuracy: 0.6467\n",
            "Epoch 10/100\n",
            "1250/1250 [==============================] - 10s 8ms/step - loss: 1.2088 - accuracy: 0.5873 - val_loss: 0.9406 - val_accuracy: 0.6742\n",
            "Epoch 11/100\n",
            "1250/1250 [==============================] - 9s 7ms/step - loss: 1.1985 - accuracy: 0.5933 - val_loss: 0.9200 - val_accuracy: 0.6754\n",
            "Epoch 12/100\n",
            "1250/1250 [==============================] - 8s 7ms/step - loss: 1.1702 - accuracy: 0.6026 - val_loss: 0.9212 - val_accuracy: 0.6811\n",
            "Epoch 13/100\n",
            "1250/1250 [==============================] - 9s 8ms/step - loss: 1.1576 - accuracy: 0.6076 - val_loss: 0.8905 - val_accuracy: 0.6885\n",
            "Epoch 14/100\n",
            "1250/1250 [==============================] - 10s 8ms/step - loss: 1.1470 - accuracy: 0.6130 - val_loss: 0.8745 - val_accuracy: 0.6936\n",
            "Epoch 15/100\n",
            "1250/1250 [==============================] - 9s 7ms/step - loss: 1.1278 - accuracy: 0.6215 - val_loss: 0.8658 - val_accuracy: 0.6998\n",
            "Epoch 16/100\n",
            "1250/1250 [==============================] - 9s 7ms/step - loss: 1.1206 - accuracy: 0.6225 - val_loss: 0.8633 - val_accuracy: 0.7029\n",
            "Epoch 17/100\n",
            "1250/1250 [==============================] - 9s 7ms/step - loss: 1.1091 - accuracy: 0.6258 - val_loss: 0.8508 - val_accuracy: 0.7066\n",
            "Epoch 18/100\n",
            "1250/1250 [==============================] - 9s 8ms/step - loss: 1.1053 - accuracy: 0.6319 - val_loss: 0.8359 - val_accuracy: 0.7141\n",
            "Epoch 19/100\n",
            "1250/1250 [==============================] - 10s 8ms/step - loss: 1.0892 - accuracy: 0.6351 - val_loss: 0.8408 - val_accuracy: 0.7083\n",
            "Epoch 20/100\n",
            "1250/1250 [==============================] - 9s 7ms/step - loss: 1.0835 - accuracy: 0.6356 - val_loss: 0.8454 - val_accuracy: 0.7007\n",
            "Epoch 21/100\n",
            "1250/1250 [==============================] - 9s 7ms/step - loss: 1.0743 - accuracy: 0.6419 - val_loss: 0.8107 - val_accuracy: 0.7207\n",
            "Epoch 22/100\n",
            "1250/1250 [==============================] - 9s 8ms/step - loss: 1.0771 - accuracy: 0.6409 - val_loss: 0.8172 - val_accuracy: 0.7202\n",
            "Epoch 23/100\n",
            "1250/1250 [==============================] - 9s 8ms/step - loss: 1.0627 - accuracy: 0.6440 - val_loss: 0.8151 - val_accuracy: 0.7190\n",
            "Epoch 24/100\n",
            "1250/1250 [==============================] - 9s 7ms/step - loss: 1.0532 - accuracy: 0.6507 - val_loss: 0.7980 - val_accuracy: 0.7228\n",
            "Epoch 25/100\n",
            "1250/1250 [==============================] - 8s 7ms/step - loss: 1.0551 - accuracy: 0.6517 - val_loss: 0.8044 - val_accuracy: 0.7215\n",
            "Epoch 26/100\n",
            "1250/1250 [==============================] - 9s 8ms/step - loss: 1.0490 - accuracy: 0.6544 - val_loss: 0.8098 - val_accuracy: 0.7201\n",
            "Epoch 27/100\n",
            "1250/1250 [==============================] - 9s 7ms/step - loss: 1.0400 - accuracy: 0.6553 - val_loss: 0.7873 - val_accuracy: 0.7237\n",
            "Epoch 28/100\n",
            "1250/1250 [==============================] - 9s 7ms/step - loss: 1.0372 - accuracy: 0.6581 - val_loss: 0.8055 - val_accuracy: 0.7208\n",
            "Epoch 29/100\n",
            "1250/1250 [==============================] - 8s 7ms/step - loss: 1.0396 - accuracy: 0.6557 - val_loss: 0.7926 - val_accuracy: 0.7284\n",
            "Epoch 30/100\n",
            "1250/1250 [==============================] - 9s 7ms/step - loss: 1.0285 - accuracy: 0.6594 - val_loss: 0.7694 - val_accuracy: 0.7324\n",
            "Epoch 31/100\n",
            "1250/1250 [==============================] - 9s 7ms/step - loss: 1.0223 - accuracy: 0.6617 - val_loss: 0.7994 - val_accuracy: 0.7222\n",
            "Epoch 32/100\n",
            "1250/1250 [==============================] - 9s 7ms/step - loss: 1.0204 - accuracy: 0.6609 - val_loss: 0.7548 - val_accuracy: 0.7410\n",
            "Epoch 33/100\n",
            "1250/1250 [==============================] - 8s 7ms/step - loss: 1.0190 - accuracy: 0.6619 - val_loss: 0.7501 - val_accuracy: 0.7396\n",
            "Epoch 34/100\n",
            "1250/1250 [==============================] - 9s 7ms/step - loss: 1.0165 - accuracy: 0.6647 - val_loss: 0.7842 - val_accuracy: 0.7267\n",
            "Epoch 35/100\n",
            "1250/1250 [==============================] - 10s 8ms/step - loss: 1.0117 - accuracy: 0.6654 - val_loss: 0.7761 - val_accuracy: 0.7302\n",
            "Epoch 36/100\n",
            "1250/1250 [==============================] - 9s 7ms/step - loss: 1.0119 - accuracy: 0.6653 - val_loss: 0.7667 - val_accuracy: 0.7342\n",
            "Epoch 37/100\n",
            "1250/1250 [==============================] - ETA: 0s - loss: 1.0056 - accuracy: 0.6682Restoring model weights from the end of the best epoch: 32.\n",
            "1250/1250 [==============================] - 9s 7ms/step - loss: 1.0056 - accuracy: 0.6682 - val_loss: 0.7524 - val_accuracy: 0.7403\n",
            "Epoch 37: early stopping\n"
          ]
        }
      ]
    },
    {
      "cell_type": "markdown",
      "source": [
        "# 3. Exercise: evaluation on test data\n",
        "You will evaluate the classification of the test data using the common metrics and the confusion matrix in this section.\n",
        "\n",
        "\n",
        "As a first stes, let's run the predictions and convert the predicted softmax outputs to dense labels. The one-hot encoded labels are also converted back to dense labels, as they are required for the evaluation functions."
      ],
      "metadata": {
        "id": "2FtKp-a2-A9m"
      }
    },
    {
      "cell_type": "code",
      "source": [
        "probas = model.predict(X_test)\n",
        "preds  = np.argmax(probas,axis=1)\n",
        "Y_test_dense = np.argmax(Y_test, axis=1) # get the original dense labels of the test data"
      ],
      "metadata": {
        "id": "EcWAqwlDMq3y",
        "colab": {
          "base_uri": "https://localhost:8080/"
        },
        "outputId": "6c9287c3-d131-474d-d99e-4066cc0d90e2"
      },
      "execution_count": 98,
      "outputs": [
        {
          "output_type": "stream",
          "name": "stdout",
          "text": [
            "313/313 [==============================] - 1s 2ms/step\n"
          ]
        }
      ]
    },
    {
      "cell_type": "markdown",
      "source": [
        "## 3.1. Exercise: Metrics\n",
        "please review the common classification metrics (accuracy, precision, recall, F1) for the complete model (not per class).\n",
        "\n",
        "Hints:\n",
        "* use macro averaging\n",
        "* you have to import the right functions from [sklearn.metrics](https://scikit-learn.org/stable/modules/model_evaluation.html)\n"
      ],
      "metadata": {
        "id": "RWJ-PH_iMs9K"
      }
    },
    {
      "cell_type": "code",
      "source": [
        "from sklearn.metrics import accuracy_score, precision_score, recall_score, f1_score"
      ],
      "metadata": {
        "id": "5sKm5zHSMZ_x"
      },
      "execution_count": 99,
      "outputs": []
    },
    {
      "cell_type": "code",
      "source": [
        "print(\"Accuracy:\", accuracy_score(Y_test_dense, preds))\n",
        "print(\"Precision:\", precision_score(Y_test_dense, preds, average='weighted'))\n",
        "print(\"Recall:\", recall_score(Y_test_dense, preds, average='weighted'))\n",
        "print(\"F1:\", f1_score(Y_test_dense, preds, average='weighted'))"
      ],
      "metadata": {
        "id": "I3_9wgDREUna",
        "colab": {
          "base_uri": "https://localhost:8080/"
        },
        "outputId": "486dc83d-c486-4f06-d16c-670717839eec"
      },
      "execution_count": 100,
      "outputs": [
        {
          "output_type": "stream",
          "name": "stdout",
          "text": [
            "Accuracy: 0.741\n",
            "Precision: 0.7425609043027426\n",
            "Recall: 0.741\n",
            "F1: 0.7385527204949021\n"
          ]
        }
      ]
    },
    {
      "cell_type": "markdown",
      "source": [],
      "metadata": {
        "id": "cyHXFNa7WL9Q"
      }
    },
    {
      "cell_type": "markdown",
      "source": [
        "\n",
        "## 3.2. Exercise: Confusion matrix\n",
        "Calculate the confusion matrix and display the results in a heatmap (with decimal values).\n",
        "\n",
        "Hints:\n",
        "* you have to do the imports this time too, e.g. from [sklearn.metrics](https://scikit-learn.org/stable/modules/model_evaluation.html) and the [heatmap function](https://seaborn.pydata.org/generated/seaborn.heatmap.html) of [seaborn](https://seaborn.pydata.org/)\n",
        "* for displaying the decimal values, you have to turn annot=True and define fmt='d' in the heatmap function of seaborn"
      ],
      "metadata": {
        "id": "ECHguBFtGL7f"
      }
    },
    {
      "cell_type": "code",
      "source": [
        "from sklearn.metrics import confusion_matrix\n",
        "import seaborn as sns"
      ],
      "metadata": {
        "id": "SIi2VzMBO3yD"
      },
      "execution_count": 101,
      "outputs": []
    },
    {
      "cell_type": "code",
      "metadata": {
        "id": "cdqODx92Svw7",
        "colab": {
          "base_uri": "https://localhost:8080/",
          "height": 540
        },
        "outputId": "266ca11f-3005-4de2-8af8-d55e4df81120"
      },
      "source": [
        "conf = confusion_matrix(Y_test_dense, preds)\n",
        "plt.figure(figsize=(7,6))\n",
        "sns.heatmap(conf, annot=True, fmt='d', cmap='Blues')"
      ],
      "execution_count": 102,
      "outputs": [
        {
          "output_type": "execute_result",
          "data": {
            "text/plain": [
              "<Axes: >"
            ]
          },
          "metadata": {},
          "execution_count": 102
        },
        {
          "output_type": "display_data",
          "data": {
            "text/plain": [
              "<Figure size 700x600 with 2 Axes>"
            ],
            "image/png": "[encoded data removed]"
          },
          "metadata": {}
        }
      ]
    },
    {
      "cell_type": "code",
      "source": [],
      "metadata": {
        "id": "VZUxDDCpXaCt"
      },
      "execution_count": 102,
      "outputs": []
    }
  ]
}